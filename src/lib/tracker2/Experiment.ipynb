{
 "cells": [
  {
   "cell_type": "code",
   "execution_count": 1,
   "metadata": {},
   "outputs": [],
   "source": [
    "from collections import deque\n",
    "import sys\n",
    "sys.path.append('..')\n",
    "import numpy as np\n",
    "import torch\n",
    "import torch.nn.functional as F\n",
    "from models import *\n",
    "from models.decode import mot_decode\n",
    "from models.model import create_model, load_model\n",
    "from models.utils import _tranpose_and_gather_feat\n",
    "from tracker import matching\n",
    "from tracking_utils.kalman_filter import KalmanFilter\n",
    "from tracking_utils.log import logger\n",
    "from tracking_utils.utils import *\n",
    "from utils.post_process import ctdet_post_process\n",
    "\n",
    "from basetrack import BaseTrack, TrackState\n",
    "\n",
    "\n",
    "class STrack(BaseTrack):\n",
    "    shared_kalman = KalmanFilter()\n",
    "    def __init__(self, tlwh, score, temp_feat, buffer_size=30):\n",
    "\n",
    "        # wait activate\n",
    "        self._tlwh = np.asarray(tlwh, dtype=np.float)\n",
    "        self.kalman_filter = None\n",
    "        self.mean, self.covariance = None, None\n",
    "        self.is_activated = False\n",
    "\n",
    "        self.score = score\n",
    "        self.tracklet_len = 0\n",
    "\n",
    "        self.smooth_feat = None\n",
    "        self.update_features(temp_feat)\n",
    "        self.features = deque([], maxlen=buffer_size)\n",
    "        self.alpha = 0.9\n",
    "\n",
    "    def update_features(self, feat):\n",
    "        feat /= np.linalg.norm(feat)\n",
    "        self.curr_feat = feat\n",
    "        if self.smooth_feat is None:\n",
    "            self.smooth_feat = feat\n",
    "        else:\n",
    "            self.smooth_feat = self.alpha * self.smooth_feat + (1 - self.alpha) * feat\n",
    "        self.features.append(feat)\n",
    "        self.smooth_feat /= np.linalg.norm(self.smooth_feat)\n",
    "\n",
    "    def predict(self):\n",
    "        mean_state = self.mean.copy()\n",
    "        if self.state != TrackState.Tracked:\n",
    "            mean_state[7] = 0\n",
    "        self.mean, self.covariance = self.kalman_filter.predict(mean_state, self.covariance)\n",
    "\n",
    "    @staticmethod\n",
    "    def multi_predict(stracks):\n",
    "        if len(stracks) > 0:\n",
    "            multi_mean = np.asarray([st.mean.copy() for st in stracks])\n",
    "            multi_covariance = np.asarray([st.covariance for st in stracks])\n",
    "            for i, st in enumerate(stracks):\n",
    "                if st.state != TrackState.Tracked:\n",
    "                    multi_mean[i][7] = 0\n",
    "            multi_mean, multi_covariance = STrack.shared_kalman.multi_predict(multi_mean, multi_covariance)\n",
    "            for i, (mean, cov) in enumerate(zip(multi_mean, multi_covariance)):\n",
    "                stracks[i].mean = mean\n",
    "                stracks[i].covariance = cov\n",
    "\n",
    "    def activate(self, kalman_filter, frame_id):\n",
    "        \"\"\"Start a new tracklet\"\"\"\n",
    "        self.kalman_filter = kalman_filter\n",
    "        self.track_id = self.next_id()\n",
    "        self.mean, self.covariance = self.kalman_filter.initiate(self.tlwh_to_xyah(self._tlwh))\n",
    "\n",
    "        self.tracklet_len = 0\n",
    "        self.state = TrackState.Tracked\n",
    "        #self.is_activated = True\n",
    "        self.frame_id = frame_id\n",
    "        self.start_frame = frame_id\n",
    "\n",
    "    def re_activate(self, new_track, frame_id, new_id=False):\n",
    "        self.mean, self.covariance = self.kalman_filter.update(\n",
    "            self.mean, self.covariance, self.tlwh_to_xyah(new_track.tlwh)\n",
    "        )\n",
    "\n",
    "        self.update_features(new_track.curr_feat)\n",
    "        self.tracklet_len = 0\n",
    "        self.state = TrackState.Tracked\n",
    "        self.is_activated = True\n",
    "        self.frame_id = frame_id\n",
    "        if new_id:\n",
    "            self.track_id = self.next_id()\n",
    "\n",
    "    def update(self, new_track, frame_id, update_feature=True):\n",
    "        \"\"\"\n",
    "        Update a matched track\n",
    "        :type new_track: STrack\n",
    "        :type frame_id: int\n",
    "        :type update_feature: bool\n",
    "        :return:\n",
    "        \"\"\"\n",
    "        self.frame_id = frame_id\n",
    "        self.tracklet_len += 1\n",
    "\n",
    "        new_tlwh = new_track.tlwh\n",
    "        self.mean, self.covariance = self.kalman_filter.update(\n",
    "            self.mean, self.covariance, self.tlwh_to_xyah(new_tlwh))\n",
    "        self.state = TrackState.Tracked\n",
    "        self.is_activated = True\n",
    "\n",
    "        self.score = new_track.score\n",
    "        if update_feature:\n",
    "            self.update_features(new_track.curr_feat)\n",
    "\n",
    "    @property\n",
    "    # @jit(nopython=True)\n",
    "    def tlwh(self):\n",
    "        \"\"\"Get current position in bounding box format `(top left x, top left y,\n",
    "                width, height)`.\n",
    "        \"\"\"\n",
    "        if self.mean is None:\n",
    "            return self._tlwh.copy()\n",
    "        ret = self.mean[:4].copy()\n",
    "        ret[2] *= ret[3]\n",
    "        ret[:2] -= ret[2:] / 2\n",
    "        return ret\n",
    "\n",
    "    @property\n",
    "    # @jit(nopython=True)\n",
    "    def tlbr(self):\n",
    "        \"\"\"Convert bounding box to format `(min x, min y, max x, max y)`, i.e.,\n",
    "        `(top left, bottom right)`.\n",
    "        \"\"\"\n",
    "        ret = self.tlwh.copy()\n",
    "        ret[2:] += ret[:2]\n",
    "        return ret\n",
    "\n",
    "    @staticmethod\n",
    "    # @jit(nopython=True)\n",
    "    def tlwh_to_xyah(tlwh):\n",
    "        \"\"\"Convert bounding box to format `(center x, center y, aspect ratio,\n",
    "        height)`, where the aspect ratio is `width / height`.\n",
    "        \"\"\"\n",
    "        ret = np.asarray(tlwh).copy()\n",
    "        ret[:2] += ret[2:] / 2\n",
    "        ret[2] /= ret[3]\n",
    "        return ret\n",
    "\n",
    "    def to_xyah(self):\n",
    "        return self.tlwh_to_xyah(self.tlwh)\n",
    "\n",
    "    @staticmethod\n",
    "    # @jit(nopython=True)\n",
    "    def tlbr_to_tlwh(tlbr):\n",
    "        ret = np.asarray(tlbr).copy()\n",
    "        ret[2:] -= ret[:2]\n",
    "        return ret\n",
    "\n",
    "    @staticmethod\n",
    "    # @jit(nopython=True)\n",
    "    def tlwh_to_tlbr(tlwh):\n",
    "        ret = np.asarray(tlwh).copy()\n",
    "        ret[2:] += ret[:2]\n",
    "        return ret\n",
    "\n",
    "    def __repr__(self):\n",
    "        return 'OT_{}_({}-{})'.format(self.track_id, self.start_frame, self.end_frame)\n",
    "\n",
    "\n",
    "class JDETracker(object):\n",
    "    def __init__(self, opt, frame_rate=30):\n",
    "        self.opt = opt\n",
    "        if opt.gpus[0] >= 0:\n",
    "            opt.device = torch.device('cuda')\n",
    "        else:\n",
    "            opt.device = torch.device('cpu')\n",
    "        print('Creating model...')\n",
    "        self.model = create_model(opt.arch, opt.heads, opt.head_conv)\n",
    "        self.model = load_model(self.model, opt.load_model)\n",
    "        self.model = self.model.to(opt.device)\n",
    "        self.model.eval()\n",
    "\n",
    "        self.tracked_stracks = []  # type: list[STrack]\n",
    "        self.lost_stracks = []  # type: list[STrack]\n",
    "        self.removed_stracks = []  # type: list[STrack]\n",
    "\n",
    "        self.frame_id = 0\n",
    "        self.det_thresh = opt.conf_thres\n",
    "        self.buffer_size = int(frame_rate / 30.0 * opt.track_buffer)\n",
    "        self.max_time_lost = self.buffer_size\n",
    "        self.max_per_image = opt.K\n",
    "        self.mean = np.array(opt.mean, dtype=np.float32).reshape(1, 1, 3)\n",
    "        self.std = np.array(opt.std, dtype=np.float32).reshape(1, 1, 3)\n",
    "\n",
    "        self.kalman_filter = KalmanFilter()\n",
    "\n",
    "    def post_process(self, dets, meta):\n",
    "        dets = dets.detach().cpu().numpy()\n",
    "        dets = dets.reshape(1, -1, dets.shape[2])\n",
    "        dets = ctdet_post_process(\n",
    "            dets.copy(), [meta['c']], [meta['s']],\n",
    "            meta['out_height'], meta['out_width'], self.opt.num_classes)\n",
    "        for j in range(1, self.opt.num_classes + 1):\n",
    "            dets[0][j] = np.array(dets[0][j], dtype=np.float32).reshape(-1, 5)\n",
    "        return dets[0]\n",
    "\n",
    "    def merge_outputs(self, detections):\n",
    "        results = {}\n",
    "        for j in range(1, self.opt.num_classes + 1):\n",
    "            results[j] = np.concatenate(\n",
    "                [detection[j] for detection in detections], axis=0).astype(np.float32)\n",
    "\n",
    "        scores = np.hstack(\n",
    "            [results[j][:, 4] for j in range(1, self.opt.num_classes + 1)])\n",
    "        if len(scores) > self.max_per_image:\n",
    "            kth = len(scores) - self.max_per_image\n",
    "            thresh = np.partition(scores, kth)[kth]\n",
    "            for j in range(1, self.opt.num_classes + 1):\n",
    "                keep_inds = (results[j][:, 4] >= thresh)\n",
    "                results[j] = results[j][keep_inds]\n",
    "        return results\n",
    "\n",
    "    def update(self, im_blob, img0):\n",
    "        self.frame_id += 1\n",
    "        activated_starcks = []\n",
    "        refind_stracks = []\n",
    "        lost_stracks = []\n",
    "        removed_stracks = []\n",
    "\n",
    "        width = img0.shape[1]\n",
    "        height = img0.shape[0]\n",
    "        inp_height = im_blob.shape[2]\n",
    "        inp_width = im_blob.shape[3]\n",
    "        c = np.array([width / 2., height / 2.], dtype=np.float32)\n",
    "        s = max(float(inp_width) / float(inp_height) * height, width) * 1.0\n",
    "        meta = {'c': c, 's': s,\n",
    "                'out_height': inp_height // self.opt.down_ratio,\n",
    "                'out_width': inp_width // self.opt.down_ratio}\n",
    "\n",
    "        ''' Step 1: Network forward, get detections & embeddings'''\n",
    "        with torch.no_grad():\n",
    "            output = self.model(im_blob)[-1]\n",
    "            hm = output['hm'].sigmoid_()\n",
    "            wh = output['wh']\n",
    "            id_feature = output['id']\n",
    "            id_feature = F.normalize(id_feature, dim=1)\n",
    "\n",
    "            reg = output['reg'] if self.opt.reg_offset else None\n",
    "            dets, inds = mot_decode(hm, wh, reg=reg, cat_spec_wh=self.opt.cat_spec_wh, K=self.opt.K)\n",
    "            id_feature = _tranpose_and_gather_feat(id_feature, inds)\n",
    "            id_feature = id_feature.squeeze(0)\n",
    "            id_feature = id_feature.cpu().numpy()\n",
    "\n",
    "        dets = self.post_process(dets, meta)\n",
    "        dets = self.merge_outputs([dets])[1]\n",
    "\n",
    "        remain_inds = dets[:, 4] > self.opt.conf_thres\n",
    "        dets = dets[remain_inds]\n",
    "        id_feature = id_feature[remain_inds]\n",
    "\n",
    "        # vis\n",
    "        '''\n",
    "        for i in range(0, dets.shape[0]):\n",
    "            bbox = dets[i][0:4]\n",
    "            cv2.rectangle(img0, (bbox[0], bbox[1]),\n",
    "                          (bbox[2], bbox[3]),\n",
    "                          (0, 255, 0), 2)\n",
    "        cv2.imshow('dets', img0)\n",
    "        cv2.waitKey(0)\n",
    "        id0 = id0-1\n",
    "        '''\n",
    "\n",
    "        if len(dets) > 0:\n",
    "            '''Detections'''\n",
    "            detections = [STrack(STrack.tlbr_to_tlwh(tlbrs[:4]), tlbrs[4], f, 30) for\n",
    "                          (tlbrs, f) in zip(dets[:, :5], id_feature)]\n",
    "        else:\n",
    "            detections = []\n",
    "\n",
    "        ''' Add newly detected tracklets to tracked_stracks'''\n",
    "        unconfirmed = []\n",
    "        tracked_stracks = []  # type: list[STrack]\n",
    "        for track in self.tracked_stracks:\n",
    "            if not track.is_activated:\n",
    "                unconfirmed.append(track)\n",
    "            else:\n",
    "                tracked_stracks.append(track)\n",
    "\n",
    "        ''' Step 2: First association, with embedding'''\n",
    "        strack_pool = joint_stracks(tracked_stracks, self.lost_stracks)\n",
    "        # Predict the current location with KF\n",
    "        #for strack in strack_pool:\n",
    "            #strack.predict()\n",
    "        STrack.multi_predict(strack_pool)\n",
    "        dists = matching.embedding_distance(strack_pool, detections)\n",
    "        #dists = matching.gate_cost_matrix(self.kalman_filter, dists, strack_pool, detections)\n",
    "        dists = matching.fuse_motion(self.kalman_filter, dists, strack_pool, detections)\n",
    "        matches, u_track, u_detection = matching.linear_assignment(dists, thresh=0.7)\n",
    "\n",
    "        for itracked, idet in matches:\n",
    "            track = strack_pool[itracked]\n",
    "            det = detections[idet]\n",
    "            if track.state == TrackState.Tracked:\n",
    "                track.update(detections[idet], self.frame_id)\n",
    "                activated_starcks.append(track)\n",
    "            else:\n",
    "                track.re_activate(det, self.frame_id, new_id=False)\n",
    "                refind_stracks.append(track)\n",
    "\n",
    "        ''' Step 3: Second association, with IOU'''\n",
    "        detections = [detections[i] for i in u_detection]\n",
    "        r_tracked_stracks = [strack_pool[i] for i in u_track if strack_pool[i].state == TrackState.Tracked]\n",
    "        dists = matching.iou_distance(r_tracked_stracks, detections)\n",
    "        matches, u_track, u_detection = matching.linear_assignment(dists, thresh=0.5)\n",
    "\n",
    "        for itracked, idet in matches:\n",
    "            track = r_tracked_stracks[itracked]\n",
    "            det = detections[idet]\n",
    "            if track.state == TrackState.Tracked:\n",
    "                track.update(det, self.frame_id)\n",
    "                activated_starcks.append(track)\n",
    "            else:\n",
    "                track.re_activate(det, self.frame_id, new_id=False)\n",
    "                refind_stracks.append(track)\n",
    "\n",
    "        for it in u_track:\n",
    "            track = r_tracked_stracks[it]\n",
    "            if not track.state == TrackState.Lost:\n",
    "                track.mark_lost()\n",
    "                lost_stracks.append(track)\n",
    "\n",
    "        '''Deal with unconfirmed tracks, usually tracks with only one beginning frame'''\n",
    "        detections = [detections[i] for i in u_detection]\n",
    "        dists = matching.iou_distance(unconfirmed, detections)\n",
    "        matches, u_unconfirmed, u_detection = matching.linear_assignment(dists, thresh=0.7)\n",
    "        for itracked, idet in matches:\n",
    "            unconfirmed[itracked].update(detections[idet], self.frame_id)\n",
    "            activated_starcks.append(unconfirmed[itracked])\n",
    "        for it in u_unconfirmed:\n",
    "            track = unconfirmed[it]\n",
    "            track.mark_removed()\n",
    "            removed_stracks.append(track)\n",
    "\n",
    "        \"\"\" Step 4: Init new stracks\"\"\"\n",
    "        for inew in u_detection:\n",
    "            track = detections[inew]\n",
    "            if track.score < self.det_thresh:\n",
    "                continue\n",
    "            track.activate(self.kalman_filter, self.frame_id)\n",
    "            activated_starcks.append(track)\n",
    "        \"\"\" Step 5: Update state\"\"\"\n",
    "        for track in self.lost_stracks:\n",
    "            if self.frame_id - track.end_frame > self.max_time_lost:\n",
    "                track.mark_removed()\n",
    "                removed_stracks.append(track)\n",
    "\n",
    "        # print('Ramained match {} s'.format(t4-t3))\n",
    "\n",
    "        self.tracked_stracks = [t for t in self.tracked_stracks if t.state == TrackState.Tracked]\n",
    "        self.tracked_stracks = joint_stracks(self.tracked_stracks, activated_starcks)\n",
    "        self.tracked_stracks = joint_stracks(self.tracked_stracks, refind_stracks)\n",
    "        self.lost_stracks = sub_stracks(self.lost_stracks, self.tracked_stracks)\n",
    "        self.lost_stracks.extend(lost_stracks)\n",
    "        self.lost_stracks = sub_stracks(self.lost_stracks, self.removed_stracks)\n",
    "        self.removed_stracks.extend(removed_stracks)\n",
    "        self.tracked_stracks, self.lost_stracks = remove_duplicate_stracks(self.tracked_stracks, self.lost_stracks)\n",
    "        # get scores of lost tracks\n",
    "        output_stracks = [track for track in self.tracked_stracks if track.is_activated]\n",
    "\n",
    "        logger.debug('===========Frame {}=========='.format(self.frame_id))\n",
    "        logger.debug('Activated: {}'.format([track.track_id for track in activated_starcks]))\n",
    "        logger.debug('Refind: {}'.format([track.track_id for track in refind_stracks]))\n",
    "        logger.debug('Lost: {}'.format([track.track_id for track in lost_stracks]))\n",
    "        logger.debug('Removed: {}'.format([track.track_id for track in removed_stracks]))\n",
    "\n",
    "        return output_stracks\n",
    "\n",
    "\n",
    "def joint_stracks(tlista, tlistb):\n",
    "    exists = {}\n",
    "    res = []\n",
    "    for t in tlista:\n",
    "        exists[t.track_id] = 1\n",
    "        res.append(t)\n",
    "    for t in tlistb:\n",
    "        tid = t.track_id\n",
    "        if not exists.get(tid, 0):\n",
    "            exists[tid] = 1\n",
    "            res.append(t)\n",
    "    return res\n",
    "\n",
    "\n",
    "def sub_stracks(tlista, tlistb):\n",
    "    stracks = {}\n",
    "    for t in tlista:\n",
    "        stracks[t.track_id] = t\n",
    "    for t in tlistb:\n",
    "        tid = t.track_id\n",
    "        if stracks.get(tid, 0):\n",
    "            del stracks[tid]\n",
    "    return list(stracks.values())\n",
    "\n",
    "\n",
    "def remove_duplicate_stracks(stracksa, stracksb):\n",
    "    pdist = matching.iou_distance(stracksa, stracksb)\n",
    "    pairs = np.where(pdist < 0.15)\n",
    "    dupa, dupb = list(), list()\n",
    "    for p, q in zip(*pairs):\n",
    "        timep = stracksa[p].frame_id - stracksa[p].start_frame\n",
    "        timeq = stracksb[q].frame_id - stracksb[q].start_frame\n",
    "        if timep > timeq:\n",
    "            dupb.append(q)\n",
    "        else:\n",
    "            dupa.append(p)\n",
    "    resa = [t for i, t in enumerate(stracksa) if not i in dupa]\n",
    "    resb = [t for i, t in enumerate(stracksb) if not i in dupb]\n",
    "    return resa, resb\n"
   ]
  },
  {
   "cell_type": "code",
   "execution_count": 2,
   "metadata": {},
   "outputs": [],
   "source": [
    "heads = {'hm': 1,\n",
    "                   'wh': 2 ,\n",
    "                   'id': 512,\n",
    "        'reg': 2}"
   ]
  },
  {
   "cell_type": "code",
   "execution_count": 3,
   "metadata": {},
   "outputs": [],
   "source": [
    "model = create_model('dla_34',heads,256)"
   ]
  },
  {
   "cell_type": "code",
   "execution_count": 4,
   "metadata": {},
   "outputs": [
    {
     "name": "stdout",
     "output_type": "stream",
     "text": [
      "loaded ../../../models/all_dla34.pth, epoch 10\n"
     ]
    }
   ],
   "source": [
    "model = load_model(model,'../../../models/all_dla34.pth')"
   ]
  },
  {
   "cell_type": "code",
   "execution_count": 5,
   "metadata": {},
   "outputs": [],
   "source": [
    "model_path = '../../../models/all_dla34.pth'"
   ]
  },
  {
   "cell_type": "code",
   "execution_count": 40,
   "metadata": {},
   "outputs": [],
   "source": [
    "state_dict = model.state_dict()"
   ]
  },
  {
   "cell_type": "code",
   "execution_count": null,
   "metadata": {},
   "outputs": [],
   "source": []
  },
  {
   "cell_type": "code",
   "execution_count": 41,
   "metadata": {},
   "outputs": [],
   "source": [
    "checkpoint = torch.load(model_path, map_location=lambda storage, loc: storage)"
   ]
  },
  {
   "cell_type": "code",
   "execution_count": 42,
   "metadata": {},
   "outputs": [],
   "source": [
    "state_dict_ = checkpoint['state_dict']"
   ]
  },
  {
   "cell_type": "code",
   "execution_count": 22,
   "metadata": {},
   "outputs": [],
   "source": [
    "# state_dict_"
   ]
  },
  {
   "cell_type": "code",
   "execution_count": 43,
   "metadata": {},
   "outputs": [],
   "source": [
    "state_dict = {}"
   ]
  },
  {
   "cell_type": "code",
   "execution_count": 44,
   "metadata": {},
   "outputs": [],
   "source": [
    "for k in state_dict_:\n",
    "    if k.startswith('module') and not k.startswith('module_list'):\n",
    "        print('Yay')\n",
    "    else:\n",
    "        state_dict[k] = state_dict_[k]"
   ]
  },
  {
   "cell_type": "code",
   "execution_count": 45,
   "metadata": {},
   "outputs": [
    {
     "data": {
      "text/plain": [
       "404"
      ]
     },
     "execution_count": 45,
     "metadata": {},
     "output_type": "execute_result"
    }
   ],
   "source": [
    "len(state_dict.keys())"
   ]
  },
  {
   "cell_type": "code",
   "execution_count": 46,
   "metadata": {},
   "outputs": [],
   "source": [
    "model_state_dict = model.state_dict()"
   ]
  },
  {
   "cell_type": "code",
   "execution_count": 47,
   "metadata": {},
   "outputs": [
    {
     "data": {
      "text/plain": [
       "404"
      ]
     },
     "execution_count": 47,
     "metadata": {},
     "output_type": "execute_result"
    }
   ],
   "source": [
    "len(model_state_dict.keys())"
   ]
  },
  {
   "cell_type": "code",
   "execution_count": null,
   "metadata": {
    "scrolled": true
   },
   "outputs": [],
   "source": [
    "\n"
   ]
  },
  {
   "cell_type": "code",
   "execution_count": 30,
   "metadata": {},
   "outputs": [
    {
     "data": {
      "text/plain": [
       "400"
      ]
     },
     "execution_count": 30,
     "metadata": {},
     "output_type": "execute_result"
    }
   ],
   "source": [
    "for k in state_dict:\n",
    "    if k in model_state_dict:\n",
    "        if state_dict[k].shape != model_state_dict[k].shape:\n",
    "            print('Skip loading parameter {}, required shape{}, '\\\n",
    "                  'loaded shape{}. {}'.format(\n",
    "              k, model_state_dict[k].shape, state_dict[k].shape, msg))\n",
    "            state_dict[k] = model_state_dict[k]\n",
    "    else:\n",
    "          print('Drop parameter {}.'.format(k) + msg)"
   ]
  },
  {
   "cell_type": "code",
   "execution_count": 48,
   "metadata": {},
   "outputs": [],
   "source": [
    "for k in state_dict:\n",
    "    if k not in model_state_dict:\n",
    "        print(k)"
   ]
  },
  {
   "cell_type": "code",
   "execution_count": 7,
   "metadata": {},
   "outputs": [],
   "source": [
    "model = model.to(torch.device('cuda'))\n",
    "model.eval();"
   ]
  },
  {
   "cell_type": "code",
   "execution_count": 10,
   "metadata": {},
   "outputs": [],
   "source": [
    "def letterbox(img, height=608, width=1088,\n",
    "              color=(127.5, 127.5, 127.5)):  # resize a rectangular image to a padded rectangular\n",
    "    shape = img.shape[:2]  # shape = [height, width]\n",
    "    ratio = min(float(height) / shape[0], float(width) / shape[1])\n",
    "    new_shape = (round(shape[1] * ratio), round(shape[0] * ratio))  # new_shape = [width, height]\n",
    "    dw = (width - new_shape[0]) / 2  # width padding\n",
    "    dh = (height - new_shape[1]) / 2  # height padding\n",
    "    top, bottom = round(dh - 0.1), round(dh + 0.1)\n",
    "    left, right = round(dw - 0.1), round(dw + 0.1)\n",
    "    img = cv2.resize(img, new_shape, interpolation=cv2.INTER_AREA)  # resized, no border\n",
    "    img = cv2.copyMakeBorder(img, top, bottom, left, right, cv2.BORDER_CONSTANT, value=color)  # padded rectangular\n",
    "    return img, ratio, dw, dh"
   ]
  },
  {
   "cell_type": "code",
   "execution_count": 8,
   "metadata": {},
   "outputs": [],
   "source": [
    "import cv2"
   ]
  },
  {
   "cell_type": "code",
   "execution_count": 99,
   "metadata": {},
   "outputs": [],
   "source": [
    "img = cv2.imread('8620050-4x3-940x705.jpg')\n"
   ]
  },
  {
   "cell_type": "code",
   "execution_count": 11,
   "metadata": {},
   "outputs": [],
   "source": [
    "im,x,y,z = letterbox(img)"
   ]
  },
  {
   "cell_type": "code",
   "execution_count": 12,
   "metadata": {},
   "outputs": [],
   "source": [
    "import matplotlib.pyplot as plt"
   ]
  },
  {
   "cell_type": "code",
   "execution_count": 13,
   "metadata": {},
   "outputs": [
    {
     "data": {
      "text/plain": [
       "<matplotlib.image.AxesImage at 0x7f78e4649a50>"
      ]
     },
     "execution_count": 13,
     "metadata": {},
     "output_type": "execute_result"
    },
    {
     "data": {
      "image/png": "[encoded data removed]",
      "text/plain": [
       "<Figure size 432x288 with 1 Axes>"
      ]
     },
     "metadata": {
      "needs_background": "light"
     },
     "output_type": "display_data"
    }
   ],
   "source": [
    "plt.imshow(im)"
   ]
  },
  {
   "cell_type": "code",
   "execution_count": 98,
   "metadata": {},
   "outputs": [
    {
     "ename": "TypeError",
     "evalue": "Invalid shape (3, 608, 1088) for image data",
     "output_type": "error",
     "traceback": [
      "\u001b[0;31m---------------------------------------------------------------------------\u001b[0m",
      "\u001b[0;31mTypeError\u001b[0m                                 Traceback (most recent call last)",
      "\u001b[0;32m<ipython-input-98-23af6c37b3d0>\u001b[0m in \u001b[0;36m<module>\u001b[0;34m\u001b[0m\n\u001b[0;32m----> 1\u001b[0;31m \u001b[0mplt\u001b[0m\u001b[0;34m.\u001b[0m\u001b[0mimshow\u001b[0m\u001b[0;34m(\u001b[0m\u001b[0mimg\u001b[0m\u001b[0;34m)\u001b[0m\u001b[0;34m\u001b[0m\u001b[0;34m\u001b[0m\u001b[0m\n\u001b[0m",
      "\u001b[0;32m~/anaconda3/envs/FairMOT/lib/python3.7/site-packages/matplotlib/pyplot.py\u001b[0m in \u001b[0;36mimshow\u001b[0;34m(X, cmap, norm, aspect, interpolation, alpha, vmin, vmax, origin, extent, shape, filternorm, filterrad, imlim, resample, url, data, **kwargs)\u001b[0m\n\u001b[1;32m   2649\u001b[0m         \u001b[0mfilternorm\u001b[0m\u001b[0;34m=\u001b[0m\u001b[0mfilternorm\u001b[0m\u001b[0;34m,\u001b[0m \u001b[0mfilterrad\u001b[0m\u001b[0;34m=\u001b[0m\u001b[0mfilterrad\u001b[0m\u001b[0;34m,\u001b[0m \u001b[0mimlim\u001b[0m\u001b[0;34m=\u001b[0m\u001b[0mimlim\u001b[0m\u001b[0;34m,\u001b[0m\u001b[0;34m\u001b[0m\u001b[0;34m\u001b[0m\u001b[0m\n\u001b[1;32m   2650\u001b[0m         resample=resample, url=url, **({\"data\": data} if data is not\n\u001b[0;32m-> 2651\u001b[0;31m         None else {}), **kwargs)\n\u001b[0m\u001b[1;32m   2652\u001b[0m     \u001b[0msci\u001b[0m\u001b[0;34m(\u001b[0m\u001b[0m__ret\u001b[0m\u001b[0;34m)\u001b[0m\u001b[0;34m\u001b[0m\u001b[0;34m\u001b[0m\u001b[0m\n\u001b[1;32m   2653\u001b[0m     \u001b[0;32mreturn\u001b[0m \u001b[0m__ret\u001b[0m\u001b[0;34m\u001b[0m\u001b[0;34m\u001b[0m\u001b[0m\n",
      "\u001b[0;32m~/anaconda3/envs/FairMOT/lib/python3.7/site-packages/matplotlib/__init__.py\u001b[0m in \u001b[0;36minner\u001b[0;34m(ax, data, *args, **kwargs)\u001b[0m\n\u001b[1;32m   1563\u001b[0m     \u001b[0;32mdef\u001b[0m \u001b[0minner\u001b[0m\u001b[0;34m(\u001b[0m\u001b[0max\u001b[0m\u001b[0;34m,\u001b[0m \u001b[0;34m*\u001b[0m\u001b[0margs\u001b[0m\u001b[0;34m,\u001b[0m \u001b[0mdata\u001b[0m\u001b[0;34m=\u001b[0m\u001b[0;32mNone\u001b[0m\u001b[0;34m,\u001b[0m \u001b[0;34m**\u001b[0m\u001b[0mkwargs\u001b[0m\u001b[0;34m)\u001b[0m\u001b[0;34m:\u001b[0m\u001b[0;34m\u001b[0m\u001b[0;34m\u001b[0m\u001b[0m\n\u001b[1;32m   1564\u001b[0m         \u001b[0;32mif\u001b[0m \u001b[0mdata\u001b[0m \u001b[0;32mis\u001b[0m \u001b[0;32mNone\u001b[0m\u001b[0;34m:\u001b[0m\u001b[0;34m\u001b[0m\u001b[0;34m\u001b[0m\u001b[0m\n\u001b[0;32m-> 1565\u001b[0;31m             \u001b[0;32mreturn\u001b[0m \u001b[0mfunc\u001b[0m\u001b[0;34m(\u001b[0m\u001b[0max\u001b[0m\u001b[0;34m,\u001b[0m \u001b[0;34m*\u001b[0m\u001b[0mmap\u001b[0m\u001b[0;34m(\u001b[0m\u001b[0msanitize_sequence\u001b[0m\u001b[0;34m,\u001b[0m \u001b[0margs\u001b[0m\u001b[0;34m)\u001b[0m\u001b[0;34m,\u001b[0m \u001b[0;34m**\u001b[0m\u001b[0mkwargs\u001b[0m\u001b[0;34m)\u001b[0m\u001b[0;34m\u001b[0m\u001b[0;34m\u001b[0m\u001b[0m\n\u001b[0m\u001b[1;32m   1566\u001b[0m \u001b[0;34m\u001b[0m\u001b[0m\n\u001b[1;32m   1567\u001b[0m         \u001b[0mbound\u001b[0m \u001b[0;34m=\u001b[0m \u001b[0mnew_sig\u001b[0m\u001b[0;34m.\u001b[0m\u001b[0mbind\u001b[0m\u001b[0;34m(\u001b[0m\u001b[0max\u001b[0m\u001b[0;34m,\u001b[0m \u001b[0;34m*\u001b[0m\u001b[0margs\u001b[0m\u001b[0;34m,\u001b[0m \u001b[0;34m**\u001b[0m\u001b[0mkwargs\u001b[0m\u001b[0;34m)\u001b[0m\u001b[0;34m\u001b[0m\u001b[0;34m\u001b[0m\u001b[0m\n",
      "\u001b[0;32m~/anaconda3/envs/FairMOT/lib/python3.7/site-packages/matplotlib/cbook/deprecation.py\u001b[0m in \u001b[0;36mwrapper\u001b[0;34m(*args, **kwargs)\u001b[0m\n\u001b[1;32m    356\u001b[0m                 \u001b[0;34mf\"%(removal)s.  If any parameter follows {name!r}, they \"\u001b[0m\u001b[0;34m\u001b[0m\u001b[0;34m\u001b[0m\u001b[0m\n\u001b[1;32m    357\u001b[0m                 f\"should be pass as keyword, not positionally.\")\n\u001b[0;32m--> 358\u001b[0;31m         \u001b[0;32mreturn\u001b[0m \u001b[0mfunc\u001b[0m\u001b[0;34m(\u001b[0m\u001b[0;34m*\u001b[0m\u001b[0margs\u001b[0m\u001b[0;34m,\u001b[0m \u001b[0;34m**\u001b[0m\u001b[0mkwargs\u001b[0m\u001b[0;34m)\u001b[0m\u001b[0;34m\u001b[0m\u001b[0;34m\u001b[0m\u001b[0m\n\u001b[0m\u001b[1;32m    359\u001b[0m \u001b[0;34m\u001b[0m\u001b[0m\n\u001b[1;32m    360\u001b[0m     \u001b[0;32mreturn\u001b[0m \u001b[0mwrapper\u001b[0m\u001b[0;34m\u001b[0m\u001b[0;34m\u001b[0m\u001b[0m\n",
      "\u001b[0;32m~/anaconda3/envs/FairMOT/lib/python3.7/site-packages/matplotlib/cbook/deprecation.py\u001b[0m in \u001b[0;36mwrapper\u001b[0;34m(*args, **kwargs)\u001b[0m\n\u001b[1;32m    356\u001b[0m                 \u001b[0;34mf\"%(removal)s.  If any parameter follows {name!r}, they \"\u001b[0m\u001b[0;34m\u001b[0m\u001b[0;34m\u001b[0m\u001b[0m\n\u001b[1;32m    357\u001b[0m                 f\"should be pass as keyword, not positionally.\")\n\u001b[0;32m--> 358\u001b[0;31m         \u001b[0;32mreturn\u001b[0m \u001b[0mfunc\u001b[0m\u001b[0;34m(\u001b[0m\u001b[0;34m*\u001b[0m\u001b[0margs\u001b[0m\u001b[0;34m,\u001b[0m \u001b[0;34m**\u001b[0m\u001b[0mkwargs\u001b[0m\u001b[0;34m)\u001b[0m\u001b[0;34m\u001b[0m\u001b[0;34m\u001b[0m\u001b[0m\n\u001b[0m\u001b[1;32m    359\u001b[0m \u001b[0;34m\u001b[0m\u001b[0m\n\u001b[1;32m    360\u001b[0m     \u001b[0;32mreturn\u001b[0m \u001b[0mwrapper\u001b[0m\u001b[0;34m\u001b[0m\u001b[0;34m\u001b[0m\u001b[0m\n",
      "\u001b[0;32m~/anaconda3/envs/FairMOT/lib/python3.7/site-packages/matplotlib/axes/_axes.py\u001b[0m in \u001b[0;36mimshow\u001b[0;34m(self, X, cmap, norm, aspect, interpolation, alpha, vmin, vmax, origin, extent, shape, filternorm, filterrad, imlim, resample, url, **kwargs)\u001b[0m\n\u001b[1;32m   5613\u001b[0m                               resample=resample, **kwargs)\n\u001b[1;32m   5614\u001b[0m \u001b[0;34m\u001b[0m\u001b[0m\n\u001b[0;32m-> 5615\u001b[0;31m         \u001b[0mim\u001b[0m\u001b[0;34m.\u001b[0m\u001b[0mset_data\u001b[0m\u001b[0;34m(\u001b[0m\u001b[0mX\u001b[0m\u001b[0;34m)\u001b[0m\u001b[0;34m\u001b[0m\u001b[0;34m\u001b[0m\u001b[0m\n\u001b[0m\u001b[1;32m   5616\u001b[0m         \u001b[0mim\u001b[0m\u001b[0;34m.\u001b[0m\u001b[0mset_alpha\u001b[0m\u001b[0;34m(\u001b[0m\u001b[0malpha\u001b[0m\u001b[0;34m)\u001b[0m\u001b[0;34m\u001b[0m\u001b[0;34m\u001b[0m\u001b[0m\n\u001b[1;32m   5617\u001b[0m         \u001b[0;32mif\u001b[0m \u001b[0mim\u001b[0m\u001b[0;34m.\u001b[0m\u001b[0mget_clip_path\u001b[0m\u001b[0;34m(\u001b[0m\u001b[0;34m)\u001b[0m \u001b[0;32mis\u001b[0m \u001b[0;32mNone\u001b[0m\u001b[0;34m:\u001b[0m\u001b[0;34m\u001b[0m\u001b[0;34m\u001b[0m\u001b[0m\n",
      "\u001b[0;32m~/anaconda3/envs/FairMOT/lib/python3.7/site-packages/matplotlib/image.py\u001b[0m in \u001b[0;36mset_data\u001b[0;34m(self, A)\u001b[0m\n\u001b[1;32m    697\u001b[0m                 or self._A.ndim == 3 and self._A.shape[-1] in [3, 4]):\n\u001b[1;32m    698\u001b[0m             raise TypeError(\"Invalid shape {} for image data\"\n\u001b[0;32m--> 699\u001b[0;31m                             .format(self._A.shape))\n\u001b[0m\u001b[1;32m    700\u001b[0m \u001b[0;34m\u001b[0m\u001b[0m\n\u001b[1;32m    701\u001b[0m         \u001b[0;32mif\u001b[0m \u001b[0mself\u001b[0m\u001b[0;34m.\u001b[0m\u001b[0m_A\u001b[0m\u001b[0;34m.\u001b[0m\u001b[0mndim\u001b[0m \u001b[0;34m==\u001b[0m \u001b[0;36m3\u001b[0m\u001b[0;34m:\u001b[0m\u001b[0;34m\u001b[0m\u001b[0;34m\u001b[0m\u001b[0m\n",
      "\u001b[0;31mTypeError\u001b[0m: Invalid shape (3, 608, 1088) for image data"
     ]
    },
    {
     "data": {
      "image/png": "[encoded data removed]",
      "text/plain": [
       "<Figure size 432x288 with 1 Axes>"
      ]
     },
     "metadata": {
      "needs_background": "light"
     },
     "output_type": "display_data"
    }
   ],
   "source": [
    "plt.imshow(img)"
   ]
  },
  {
   "cell_type": "code",
   "execution_count": 18,
   "metadata": {},
   "outputs": [],
   "source": [
    "img = im[:, :, ::-1].transpose(2, 0, 1)\n",
    "img = np.ascontiguousarray(img, dtype=np.float32)\n",
    "img /= 255.0"
   ]
  },
  {
   "cell_type": "code",
   "execution_count": 19,
   "metadata": {},
   "outputs": [
    {
     "data": {
      "text/plain": [
       "(3, 608, 1088)"
      ]
     },
     "execution_count": 19,
     "metadata": {},
     "output_type": "execute_result"
    }
   ],
   "source": [
    "img.shape"
   ]
  },
  {
   "cell_type": "code",
   "execution_count": 21,
   "metadata": {},
   "outputs": [],
   "source": [
    "bolb = torch.from_numpy(img).cuda().unsqueeze(0)"
   ]
  },
  {
   "cell_type": "code",
   "execution_count": 23,
   "metadata": {},
   "outputs": [
    {
     "data": {
      "text/plain": [
       "torch.Size([1, 3, 608, 1088])"
      ]
     },
     "execution_count": 23,
     "metadata": {},
     "output_type": "execute_result"
    }
   ],
   "source": [
    "bolb.shape"
   ]
  },
  {
   "cell_type": "code",
   "execution_count": 25,
   "metadata": {},
   "outputs": [],
   "source": [
    "with torch.no_grad():\n",
    "    out = model(bolb)"
   ]
  },
  {
   "cell_type": "code",
   "execution_count": 31,
   "metadata": {},
   "outputs": [
    {
     "data": {
      "text/plain": [
       "torch.Size([1, 2, 152, 272])"
      ]
     },
     "execution_count": 31,
     "metadata": {},
     "output_type": "execute_result"
    }
   ],
   "source": [
    "out[0]['wh'].shape"
   ]
  },
  {
   "cell_type": "code",
   "execution_count": 34,
   "metadata": {},
   "outputs": [
    {
     "data": {
      "text/plain": [
       "torch.Size([1, 512, 152, 272])"
      ]
     },
     "execution_count": 34,
     "metadata": {},
     "output_type": "execute_result"
    }
   ],
   "source": [
    "out[0]['id'].shape"
   ]
  },
  {
   "cell_type": "code",
   "execution_count": 35,
   "metadata": {},
   "outputs": [
    {
     "data": {
      "text/plain": [
       "torch.Size([1, 2, 152, 272])"
      ]
     },
     "execution_count": 35,
     "metadata": {},
     "output_type": "execute_result"
    }
   ],
   "source": [
    "out[0]['reg'].shape"
   ]
  },
  {
   "cell_type": "code",
   "execution_count": 36,
   "metadata": {},
   "outputs": [
    {
     "data": {
      "text/plain": [
       "torch.Size([1, 1, 152, 272])"
      ]
     },
     "execution_count": 36,
     "metadata": {},
     "output_type": "execute_result"
    }
   ],
   "source": [
    "out[0]['hm'].shape"
   ]
  },
  {
   "cell_type": "code",
   "execution_count": 40,
   "metadata": {},
   "outputs": [],
   "source": [
    "hm = out[0]['hm']"
   ]
  },
  {
   "cell_type": "code",
   "execution_count": 42,
   "metadata": {},
   "outputs": [],
   "source": [
    "hm = hm.sigmoid()"
   ]
  },
  {
   "cell_type": "code",
   "execution_count": 44,
   "metadata": {},
   "outputs": [],
   "source": [
    "output = out[0]"
   ]
  },
  {
   "cell_type": "code",
   "execution_count": 57,
   "metadata": {},
   "outputs": [],
   "source": [
    "wh = output['wh']\n",
    "id_feature = output['id']\n",
    "id_feature = F.normalize(id_feature, dim=1)\n",
    "\n",
    "reg = output['reg']\n",
    "# dets, inds = mot_decode(hm, wh, reg=reg, cat_spec_wh=self.opt.cat_spec_wh, K=self.opt.K)\n",
    "# id_feature = _tranpose_and_gather_feat(id_feature, inds)\n",
    "# id_feature = id_feature.squeeze(0)\n",
    "# id_feature = id_feature.cpu().numpy()\n"
   ]
  },
  {
   "cell_type": "code",
   "execution_count": 65,
   "metadata": {},
   "outputs": [],
   "source": [
    "from __future__ import absolute_import\n",
    "from __future__ import division\n",
    "from __future__ import print_function\n",
    "\n",
    "import torch\n",
    "import torch.nn as nn\n",
    "sys.path.append('../models')\n",
    "from models.utils import _gather_feat, _tranpose_and_gather_feat\n",
    "\n",
    "def _nms(heat, kernel=3):\n",
    "    pad = (kernel - 1) // 2\n",
    "\n",
    "    hmax = nn.functional.max_pool2d(\n",
    "        heat, (kernel, kernel), stride=1, padding=pad)\n",
    "    keep = (hmax == heat).float()\n",
    "    return heat * keep\n",
    "\n",
    "\n",
    "def _topk_channel(scores, K=40):\n",
    "      batch, cat, height, width = scores.size()\n",
    "      \n",
    "      topk_scores, topk_inds = torch.topk(scores.view(batch, cat, -1), K)\n",
    "\n",
    "      topk_inds = topk_inds % (height * width)\n",
    "      topk_ys   = (topk_inds / width).int().float()\n",
    "      topk_xs   = (topk_inds % width).int().float()\n",
    "\n",
    "      return topk_scores, topk_inds, topk_ys, topk_xs\n",
    "\n",
    "def _topk(scores, K=40):\n",
    "    batch, cat, height, width = scores.size()\n",
    "      \n",
    "    topk_scores, topk_inds = torch.topk(scores.view(batch, cat, -1), K)\n",
    "\n",
    "    topk_inds = topk_inds % (height * width)\n",
    "    topk_ys   = (topk_inds / width).int().float()\n",
    "    topk_xs   = (topk_inds % width).int().float()\n",
    "      \n",
    "    topk_score, topk_ind = torch.topk(topk_scores.view(batch, -1), K)\n",
    "    topk_clses = (topk_ind / K).int()\n",
    "    topk_inds = _gather_feat(\n",
    "        topk_inds.view(batch, -1, 1), topk_ind).view(batch, K)\n",
    "    topk_ys = _gather_feat(topk_ys.view(batch, -1, 1), topk_ind).view(batch, K)\n",
    "    topk_xs = _gather_feat(topk_xs.view(batch, -1, 1), topk_ind).view(batch, K)\n",
    "\n",
    "    return topk_score, topk_inds, topk_clses, topk_ys, topk_xs\n"
   ]
  },
  {
   "cell_type": "code",
   "execution_count": 60,
   "metadata": {},
   "outputs": [],
   "source": [
    "def mot_decode(heat, wh, reg=None, cat_spec_wh=False, K=100):\n",
    "    batch, cat, height, width = heat.size()\n",
    "\n",
    "    # heat = torch.sigmoid(heat)\n",
    "    # perform nms on heatmaps\n",
    "    heat = _nms(heat)\n",
    "\n",
    "    scores, inds, clses, ys, xs = _topk(heat, K=K)\n",
    "    if reg is not None:\n",
    "        reg = _tranpose_and_gather_feat(reg, inds)\n",
    "        reg = reg.view(batch, K, 2)\n",
    "        xs = xs.view(batch, K, 1) + reg[:, :, 0:1]\n",
    "        ys = ys.view(batch, K, 1) + reg[:, :, 1:2]\n",
    "    else:\n",
    "        xs = xs.view(batch, K, 1) + 0.5\n",
    "        ys = ys.view(batch, K, 1) + 0.5\n",
    "    wh = _tranpose_and_gather_feat(wh, inds)\n",
    "    if cat_spec_wh:\n",
    "        wh = wh.view(batch, K, cat, 2)\n",
    "        clses_ind = clses.view(batch, K, 1, 1).expand(batch, K, 1, 2).long()\n",
    "        wh = wh.gather(2, clses_ind).view(batch, K, 2)\n",
    "    else:\n",
    "        wh = wh.view(batch, K, 2)\n",
    "    clses = clses.view(batch, K, 1).float()\n",
    "    scores = scores.view(batch, K, 1)\n",
    "    bboxes = torch.cat([xs - wh[..., 0:1] / 2,\n",
    "                        ys - wh[..., 1:2] / 2,\n",
    "                        xs + wh[..., 0:1] / 2,\n",
    "                        ys + wh[..., 1:2] / 2], dim=2)\n",
    "    detections = torch.cat([bboxes, scores, clses], dim=2)\n",
    "\n",
    "    return detections, inds\n"
   ]
  },
  {
   "cell_type": "code",
   "execution_count": 66,
   "metadata": {},
   "outputs": [],
   "source": [
    "dets, inds = mot_decode(hm, wh, reg=reg, cat_spec_wh=True, K=128)"
   ]
  },
  {
   "cell_type": "code",
   "execution_count": 85,
   "metadata": {},
   "outputs": [],
   "source": [
    "id_feature = _tranpose_and_gather_feat(id_feature, inds)"
   ]
  },
  {
   "cell_type": "code",
   "execution_count": 86,
   "metadata": {},
   "outputs": [
    {
     "data": {
      "text/plain": [
       "torch.Size([1, 128, 512])"
      ]
     },
     "execution_count": 86,
     "metadata": {},
     "output_type": "execute_result"
    }
   ],
   "source": [
    "id_feature.shape"
   ]
  },
  {
   "cell_type": "code",
   "execution_count": 87,
   "metadata": {},
   "outputs": [],
   "source": [
    "id_feature = id_feature.cpu().numpy()"
   ]
  },
  {
   "cell_type": "code",
   "execution_count": 88,
   "metadata": {},
   "outputs": [
    {
     "data": {
      "text/plain": [
       "torch.Size([1, 128, 6])"
      ]
     },
     "execution_count": 88,
     "metadata": {},
     "output_type": "execute_result"
    }
   ],
   "source": [
    "dets.shape"
   ]
  },
  {
   "cell_type": "code",
   "execution_count": 89,
   "metadata": {},
   "outputs": [],
   "source": [
    "dets = dets.detach().cpu().numpy()\n",
    "dets = dets.reshape(1, -1, dets.shape[2])"
   ]
  },
  {
   "cell_type": "code",
   "execution_count": 90,
   "metadata": {},
   "outputs": [
    {
     "data": {
      "text/plain": [
       "(1, 128, 6)"
      ]
     },
     "execution_count": 90,
     "metadata": {},
     "output_type": "execute_result"
    }
   ],
   "source": [
    "dets.shape"
   ]
  },
  {
   "cell_type": "code",
   "execution_count": 92,
   "metadata": {},
   "outputs": [],
   "source": [
    "from collections import deque\n",
    "\n",
    "import numpy as np\n",
    "import torch\n",
    "import torch.nn.functional as F\n",
    "from models import *\n",
    "from models.decode import mot_decode\n",
    "from models.model import create_model, load_model\n",
    "from models.utils import _tranpose_and_gather_feat\n",
    "from tracker import matching\n",
    "from tracking_utils.kalman_filter import KalmanFilter\n",
    "from tracking_utils.log import logger\n",
    "from tracking_utils.utils import *\n",
    "from utils.post_process import ctdet_post_process"
   ]
  },
  {
   "cell_type": "code",
   "execution_count": 108,
   "metadata": {},
   "outputs": [],
   "source": [
    "def post_process( dets, meta):\n",
    "    dets = dets\n",
    "    dets = dets.reshape(1, -1, dets.shape[2])\n",
    "    dets = ctdet_post_process(\n",
    "        dets.copy(), [meta['c']], [meta['s']],\n",
    "        meta['out_height'], meta['out_width'], 1)\n",
    "    for j in range(1, 1 + 1):\n",
    "        dets[0][j] = np.array(dets[0][j], dtype=np.float32).reshape(-1, 5)\n",
    "    return dets[0]"
   ]
  },
  {
   "cell_type": "code",
   "execution_count": null,
   "metadata": {},
   "outputs": [],
   "source": []
  },
  {
   "cell_type": "code",
   "execution_count": 94,
   "metadata": {},
   "outputs": [],
   "source": [
    "inp_height = bolb.shape[2]\n",
    "inp_width = bolb.shape[3]"
   ]
  },
  {
   "cell_type": "code",
   "execution_count": 100,
   "metadata": {},
   "outputs": [],
   "source": [
    "width = img.shape[1]\n",
    "height = img.shape[0]"
   ]
  },
  {
   "cell_type": "code",
   "execution_count": 101,
   "metadata": {},
   "outputs": [],
   "source": [
    "c = np.array([width / 2., height / 2.], dtype=np.float32)\n",
    "s = max(float(inp_width) / float(inp_height) * height, width) * 1.0"
   ]
  },
  {
   "cell_type": "code",
   "execution_count": 103,
   "metadata": {},
   "outputs": [
    {
     "data": {
      "text/plain": [
       "1261.578947368421"
      ]
     },
     "execution_count": 103,
     "metadata": {},
     "output_type": "execute_result"
    }
   ],
   "source": []
  },
  {
   "cell_type": "code",
   "execution_count": 104,
   "metadata": {},
   "outputs": [],
   "source": [
    "meta = {'c': c, 's': s,\n",
    "                'out_height': inp_height // 4,\n",
    "                'out_width': inp_width // 4}"
   ]
  },
  {
   "cell_type": "code",
   "execution_count": 109,
   "metadata": {},
   "outputs": [],
   "source": [
    "det_new = post_process(dets,meta)"
   ]
  },
  {
   "cell_type": "code",
   "execution_count": 117,
   "metadata": {},
   "outputs": [],
   "source": [
    "def merge_outputs( detections):\n",
    "    results = {}\n",
    "    for j in range(1, 1 + 1):\n",
    "        results[j] = np.concatenate(\n",
    "            [detection[j] for detection in detections], axis=0).astype(np.float32)\n",
    "\n",
    "    scores = np.hstack(\n",
    "        [results[j][:, 4] for j in range(1, 1 + 1)])\n",
    "    if len(scores) > 128:\n",
    "        kth = len(scores) - 128\n",
    "        thresh = np.partition(scores, kth)[kth]\n",
    "        for j in range(1, 1 + 1):\n",
    "            keep_inds = (results[j][:, 4] >= thresh)\n",
    "            results[j] = results[j][keep_inds]\n",
    "    return results"
   ]
  },
  {
   "cell_type": "code",
   "execution_count": 119,
   "metadata": {},
   "outputs": [],
   "source": [
    "det_new2 = merge_outputs([det_new])"
   ]
  },
  {
   "cell_type": "code",
   "execution_count": 123,
   "metadata": {},
   "outputs": [
    {
     "data": {
      "text/plain": [
       "(128, 5)"
      ]
     },
     "execution_count": 123,
     "metadata": {},
     "output_type": "execute_result"
    }
   ],
   "source": [
    "det_new2[1].shape"
   ]
  },
  {
   "cell_type": "code",
   "execution_count": 136,
   "metadata": {},
   "outputs": [
    {
     "ename": "IndexError",
     "evalue": "boolean index did not match indexed array along dimension 0; dimension is 7 but corresponding boolean dimension is 128",
     "output_type": "error",
     "traceback": [
      "\u001b[0;31m---------------------------------------------------------------------------\u001b[0m",
      "\u001b[0;31mIndexError\u001b[0m                                Traceback (most recent call last)",
      "\u001b[0;32m<ipython-input-136-0adc093735b3>\u001b[0m in \u001b[0;36m<module>\u001b[0;34m\u001b[0m\n\u001b[1;32m      2\u001b[0m \u001b[0mdets\u001b[0m \u001b[0;34m=\u001b[0m \u001b[0mdet_new2\u001b[0m\u001b[0;34m[\u001b[0m\u001b[0;36m1\u001b[0m\u001b[0;34m]\u001b[0m\u001b[0;34m[\u001b[0m\u001b[0mremain_inds\u001b[0m\u001b[0;34m]\u001b[0m\u001b[0;34m\u001b[0m\u001b[0;34m\u001b[0m\u001b[0m\n\u001b[1;32m      3\u001b[0m \u001b[0;34m\u001b[0m\u001b[0m\n\u001b[0;32m----> 4\u001b[0;31m \u001b[0mid_feature\u001b[0m \u001b[0;34m=\u001b[0m \u001b[0mid_feature\u001b[0m\u001b[0;34m[\u001b[0m\u001b[0mremain_inds\u001b[0m\u001b[0;34m]\u001b[0m\u001b[0;34m\u001b[0m\u001b[0;34m\u001b[0m\u001b[0m\n\u001b[0m",
      "\u001b[0;31mIndexError\u001b[0m: boolean index did not match indexed array along dimension 0; dimension is 7 but corresponding boolean dimension is 128"
     ]
    }
   ],
   "source": [
    "remain_inds = det_new2[1][:, 4] > 0.5\n",
    "dets = det_new2[1][remain_inds]\n",
    "\n",
    "id_feature = id_feature[remain_inds]"
   ]
  },
  {
   "cell_type": "code",
   "execution_count": 134,
   "metadata": {},
   "outputs": [
    {
     "data": {
      "text/plain": [
       "(128,)"
      ]
     },
     "execution_count": 134,
     "metadata": {},
     "output_type": "execute_result"
    }
   ],
   "source": [
    "remain_inds.shape"
   ]
  },
  {
   "cell_type": "code",
   "execution_count": 137,
   "metadata": {},
   "outputs": [
    {
     "data": {
      "text/plain": [
       "(7, 512)"
      ]
     },
     "execution_count": 137,
     "metadata": {},
     "output_type": "execute_result"
    }
   ],
   "source": [
    "id_feature.shape"
   ]
  },
  {
   "cell_type": "code",
   "execution_count": 138,
   "metadata": {},
   "outputs": [
    {
     "data": {
      "text/plain": [
       "array([[  -0.041839,    0.026876,    0.048106, ...,    0.020356,   0.0089655,   -0.059829],\n",
       "       [  -0.035864,    0.013832,    0.045459, ...,  -0.0041401,   0.0049192,   -0.081788],\n",
       "       [   0.020093,     0.04063,    0.051501, ...,   -0.042466,    0.066014,   -0.033385],\n",
       "       ...,\n",
       "       [ -0.0070784,   -0.011395,    0.036654, ...,    0.030213,    0.049186,   -0.092264],\n",
       "       [  -0.032154,    0.037467,     0.04895, ..., -4.1478e-05,    0.047282,   -0.022843],\n",
       "       [  0.0025548,    0.018067,    0.035393, ...,    -0.05232,    0.052697,  -0.0090622]], dtype=float32)"
      ]
     },
     "execution_count": 138,
     "metadata": {},
     "output_type": "execute_result"
    }
   ],
   "source": [
    "id_feature"
   ]
  },
  {
   "cell_type": "code",
   "execution_count": 140,
   "metadata": {},
   "outputs": [
    {
     "data": {
      "text/plain": [
       "(8, 5)"
      ]
     },
     "execution_count": 140,
     "metadata": {},
     "output_type": "execute_result"
    }
   ],
   "source": [
    "dets.shape"
   ]
  },
  {
   "cell_type": "code",
   "execution_count": null,
   "metadata": {},
   "outputs": [],
   "source": []
  }
 ],
 "metadata": {
  "kernelspec": {
   "display_name": "Python [conda env:FairMOT]",
   "language": "python",
   "name": "conda-env-FairMOT-py"
  },
  "language_info": {
   "codemirror_mode": {
    "name": "ipython",
    "version": 3
   },
   "file_extension": ".py",
   "mimetype": "text/x-python",
   "name": "python",
   "nbconvert_exporter": "python",
   "pygments_lexer": "ipython3",
   "version": "3.7.7"
  }
 },
 "nbformat": 4,
 "nbformat_minor": 4
}
